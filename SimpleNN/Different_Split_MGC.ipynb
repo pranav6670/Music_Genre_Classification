{
 "cells": [
  {
   "cell_type": "markdown",
   "metadata": {
    "colab_type": "text",
    "id": "cNnM2w-HCeb1"
   },
   "source": [
    "# Music genre classification notebook"
   ]
  },
  {
   "cell_type": "markdown",
   "metadata": {
    "colab_type": "text",
    "id": "2l3sppZMCydR"
   },
   "source": [
    "## Importing Libraries"
   ]
  },
  {
   "cell_type": "code",
   "execution_count": 1,
   "metadata": {
    "colab": {},
    "colab_type": "code",
    "id": "Gt3fyg6dCNvX"
   },
   "outputs": [],
   "source": [
    "# feature extractoring and preprocessing data\n",
    "import librosa\n",
    "import pandas as pd\n",
    "import numpy as np\n",
    "import matplotlib.pyplot as plt\n",
    "%matplotlib inline\n",
    "import os\n",
    "from PIL import Image\n",
    "import pathlib\n",
    "import csv\n",
    "\n",
    "# Preprocessing\n",
    "from sklearn.model_selection import train_test_split\n",
    "from sklearn.preprocessing import LabelEncoder, StandardScaler\n",
    "\n",
    "#Keras\n",
    "import keras\n",
    "\n",
    "import warnings\n",
    "warnings.filterwarnings('ignore')"
   ]
  },
  {
   "cell_type": "markdown",
   "metadata": {
    "colab_type": "text",
    "id": "DPe_ebYuDqr5"
   },
   "source": [
    "## Extracting music and features\n",
    "\n",
    "### Dataset\n",
    "\n",
    "We use [GTZAN genre collection](http://marsyasweb.appspot.com/download/data_sets/) dataset for classification. \n",
    "<br>\n",
    "<br>\n",
    "The dataset consists of 10 genres i.e\n",
    " * Blues\n",
    " * Classical\n",
    " * Country\n",
    " * Disco\n",
    " * Hiphop\n",
    " * Jazz\n",
    " * Metal\n",
    " * Pop\n",
    " * Reggae\n",
    " * Rock\n",
    " \n",
    "Each genre contains 100 songs. Total dataset: 1000 songs"
   ]
  },
  {
   "cell_type": "markdown",
   "metadata": {
    "colab_type": "text",
    "id": "AfBSVfRCD3PE"
   },
   "source": [
    "## Extracting the Spectrogram for every Audio"
   ]
  },
  {
   "cell_type": "code",
   "execution_count": 0,
   "metadata": {
    "colab": {},
    "colab_type": "code",
    "id": "BHh3pTEVDdrT"
   },
   "outputs": [],
   "source": [
    "cmap = plt.get_cmap('inferno')\n",
    "\n",
    "plt.figure(figsize=(10,10))\n",
    "genres = 'blues classical country disco hiphop jazz metal pop reggae rock'.split()\n",
    "for g in genres:\n",
    "    pathlib.Path(f'img_data/{g}').mkdir(parents=True, exist_ok=True)     \n",
    "    for filename in os.listdir(f'./MIR/genres/{g}'):\n",
    "        songname = f'./MIR/genres/{g}/{filename}'\n",
    "        y, sr = librosa.load(songname, mono=True, duration=5)\n",
    "        plt.specgram(y, NFFT=2048, Fs=2, Fc=0, noverlap=128, cmap=cmap, sides='default', mode='default', scale='dB');\n",
    "        plt.axis('off');\n",
    "        plt.savefig(f'img_data/{g}/{filename[:-3].replace(\".\", \"\")}.png')\n",
    "        plt.clf()\n",
    " "
   ]
  },
  {
   "cell_type": "markdown",
   "metadata": {
    "colab_type": "text",
    "id": "SszVgjYnFNX9"
   },
   "source": [
    "All the audio files get converted into their respective spectrograms .WE can noe easily extract features from them."
   ]
  },
  {
   "cell_type": "markdown",
   "metadata": {
    "colab_type": "text",
    "id": "piwUwgP5Eef9"
   },
   "source": [
    "## Extracting features from Spectrogram\n",
    "\n",
    "\n",
    "We will extract\n",
    "\n",
    "* Mel-frequency cepstral coefficients (MFCC)(20 in number)\n",
    "* Spectral Centroid,\n",
    "* Zero Crossing Rate\n",
    "* Chroma Frequencies\n",
    "* Spectral Roll-off."
   ]
  },
  {
   "cell_type": "code",
   "execution_count": 2,
   "metadata": {
    "colab": {},
    "colab_type": "code",
    "id": "__g8tX8pDeIL"
   },
   "outputs": [],
   "source": [
    "header = 'filename chroma_stft rmse spectral_centroid spectral_bandwidth rolloff zero_crossing_rate'\n",
    "for i in range(1, 21):\n",
    "    header += f' mfcc{i}'\n",
    "header += ' label'\n",
    "header = header.split()"
   ]
  },
  {
   "cell_type": "markdown",
   "metadata": {
    "colab_type": "text",
    "id": "TBlT448pEqR9"
   },
   "source": [
    "## Writing data to csv file\n",
    "\n",
    "We write the data to a csv file "
   ]
  },
  {
   "cell_type": "code",
   "execution_count": 5,
   "metadata": {
    "colab": {},
    "colab_type": "code",
    "id": "ZsSQmB0PE3Iu"
   },
   "outputs": [],
   "source": [
    "file = open('data.csv', 'w', newline='')\n",
    "with file:\n",
    "    writer = csv.writer(file)\n",
    "    writer.writerow(header)\n",
    "genres = 'blues classical country disco hiphop jazz metal pop reggae rock'.split()\n",
    "for g in genres:\n",
    "    for filename in os.listdir(f'./input/genres/{g}'):\n",
    "        songname = f'./input/genres/{g}/{filename}'\n",
    "        y, sr = librosa.load(songname, mono=True, duration=30)\n",
    "        rms = librosa.feature.rms(y=y)\n",
    "        chroma_stft = librosa.feature.chroma_stft(y=y, sr=sr)\n",
    "        spec_cent = librosa.feature.spectral_centroid(y=y, sr=sr)\n",
    "        spec_bw = librosa.feature.spectral_bandwidth(y=y, sr=sr)\n",
    "        rolloff = librosa.feature.spectral_rolloff(y=y, sr=sr)\n",
    "        zcr = librosa.feature.zero_crossing_rate(y)\n",
    "        mfcc = librosa.feature.mfcc(y=y, sr=sr)\n",
    "        to_append = f'{filename} {np.mean(chroma_stft)} {np.mean(rms)} {np.mean(spec_cent)} {np.mean(spec_bw)} {np.mean(rolloff)} {np.mean(zcr)}'    \n",
    "        for e in mfcc:\n",
    "            to_append += f' {np.mean(e)}'\n",
    "        to_append += f' {g}'\n",
    "        file = open('data.csv', 'a', newline='')\n",
    "        with file:\n",
    "            writer = csv.writer(file)\n",
    "            writer.writerow(to_append.split())"
   ]
  },
  {
   "cell_type": "markdown",
   "metadata": {
    "colab_type": "text",
    "id": "0yfdo1cj6V7d"
   },
   "source": [
    "The data has been extracted into a [data.csv](https://github.com/parulnith/Music-Genre-Classification-with-Python/blob/master/data.csv) file."
   ]
  },
  {
   "cell_type": "markdown",
   "metadata": {
    "colab_type": "text",
    "id": "fgeCZSKQEp1A"
   },
   "source": [
    "# Analysing the Data in Pandas"
   ]
  },
  {
   "cell_type": "code",
   "execution_count": 6,
   "metadata": {
    "colab": {
     "base_uri": "https://localhost:8080/",
     "height": 253
    },
    "colab_type": "code",
    "id": "Kr5_EdpD9dyh",
    "outputId": "81fd4a29-93fa-44f8-bf90-2f99981f761a"
   },
   "outputs": [
    {
     "data": {
      "text/html": [
       "<div>\n",
       "<style scoped>\n",
       "    .dataframe tbody tr th:only-of-type {\n",
       "        vertical-align: middle;\n",
       "    }\n",
       "\n",
       "    .dataframe tbody tr th {\n",
       "        vertical-align: top;\n",
       "    }\n",
       "\n",
       "    .dataframe thead th {\n",
       "        text-align: right;\n",
       "    }\n",
       "</style>\n",
       "<table border=\"1\" class=\"dataframe\">\n",
       "  <thead>\n",
       "    <tr style=\"text-align: right;\">\n",
       "      <th></th>\n",
       "      <th>filename</th>\n",
       "      <th>chroma_stft</th>\n",
       "      <th>rmse</th>\n",
       "      <th>spectral_centroid</th>\n",
       "      <th>spectral_bandwidth</th>\n",
       "      <th>rolloff</th>\n",
       "      <th>zero_crossing_rate</th>\n",
       "      <th>mfcc1</th>\n",
       "      <th>mfcc2</th>\n",
       "      <th>mfcc3</th>\n",
       "      <th>...</th>\n",
       "      <th>mfcc12</th>\n",
       "      <th>mfcc13</th>\n",
       "      <th>mfcc14</th>\n",
       "      <th>mfcc15</th>\n",
       "      <th>mfcc16</th>\n",
       "      <th>mfcc17</th>\n",
       "      <th>mfcc18</th>\n",
       "      <th>mfcc19</th>\n",
       "      <th>mfcc20</th>\n",
       "      <th>label</th>\n",
       "    </tr>\n",
       "  </thead>\n",
       "  <tbody>\n",
       "    <tr>\n",
       "      <th>0</th>\n",
       "      <td>blues.00093.wav</td>\n",
       "      <td>0.377690</td>\n",
       "      <td>0.065906</td>\n",
       "      <td>569.930721</td>\n",
       "      <td>995.407125</td>\n",
       "      <td>927.427725</td>\n",
       "      <td>0.021701</td>\n",
       "      <td>-350.436188</td>\n",
       "      <td>169.545746</td>\n",
       "      <td>31.820370</td>\n",
       "      <td>...</td>\n",
       "      <td>1.821690</td>\n",
       "      <td>-5.970891</td>\n",
       "      <td>-5.259567</td>\n",
       "      <td>-0.229211</td>\n",
       "      <td>-1.776850</td>\n",
       "      <td>-3.713751</td>\n",
       "      <td>0.181591</td>\n",
       "      <td>2.072390</td>\n",
       "      <td>-2.896225</td>\n",
       "      <td>blues</td>\n",
       "    </tr>\n",
       "    <tr>\n",
       "      <th>1</th>\n",
       "      <td>blues.00087.wav</td>\n",
       "      <td>0.336773</td>\n",
       "      <td>0.158098</td>\n",
       "      <td>1442.190271</td>\n",
       "      <td>1870.534155</td>\n",
       "      <td>3083.414688</td>\n",
       "      <td>0.050889</td>\n",
       "      <td>-155.504929</td>\n",
       "      <td>125.638863</td>\n",
       "      <td>1.596553</td>\n",
       "      <td>...</td>\n",
       "      <td>-0.792893</td>\n",
       "      <td>-7.748057</td>\n",
       "      <td>0.413548</td>\n",
       "      <td>-7.030263</td>\n",
       "      <td>3.997679</td>\n",
       "      <td>-6.256611</td>\n",
       "      <td>0.958227</td>\n",
       "      <td>2.019821</td>\n",
       "      <td>-5.742188</td>\n",
       "      <td>blues</td>\n",
       "    </tr>\n",
       "    <tr>\n",
       "      <th>2</th>\n",
       "      <td>blues.00050.wav</td>\n",
       "      <td>0.400860</td>\n",
       "      <td>0.182380</td>\n",
       "      <td>1945.848425</td>\n",
       "      <td>2082.246626</td>\n",
       "      <td>4175.874749</td>\n",
       "      <td>0.085806</td>\n",
       "      <td>-82.979019</td>\n",
       "      <td>107.052124</td>\n",
       "      <td>-25.320452</td>\n",
       "      <td>...</td>\n",
       "      <td>12.539581</td>\n",
       "      <td>-9.762303</td>\n",
       "      <td>2.562253</td>\n",
       "      <td>-6.300853</td>\n",
       "      <td>2.996785</td>\n",
       "      <td>-8.718455</td>\n",
       "      <td>-0.326581</td>\n",
       "      <td>-2.980347</td>\n",
       "      <td>0.712600</td>\n",
       "      <td>blues</td>\n",
       "    </tr>\n",
       "    <tr>\n",
       "      <th>3</th>\n",
       "      <td>blues.00044.wav</td>\n",
       "      <td>0.390212</td>\n",
       "      <td>0.136276</td>\n",
       "      <td>2279.124558</td>\n",
       "      <td>2375.102120</td>\n",
       "      <td>5198.360233</td>\n",
       "      <td>0.092570</td>\n",
       "      <td>-109.509285</td>\n",
       "      <td>86.922409</td>\n",
       "      <td>-8.607986</td>\n",
       "      <td>...</td>\n",
       "      <td>11.087481</td>\n",
       "      <td>-5.085794</td>\n",
       "      <td>3.976360</td>\n",
       "      <td>-12.859742</td>\n",
       "      <td>12.343859</td>\n",
       "      <td>0.026216</td>\n",
       "      <td>-0.741568</td>\n",
       "      <td>-5.126620</td>\n",
       "      <td>3.303442</td>\n",
       "      <td>blues</td>\n",
       "    </tr>\n",
       "    <tr>\n",
       "      <th>4</th>\n",
       "      <td>blues.00078.wav</td>\n",
       "      <td>0.414188</td>\n",
       "      <td>0.258052</td>\n",
       "      <td>2333.685108</td>\n",
       "      <td>2227.425609</td>\n",
       "      <td>4942.811778</td>\n",
       "      <td>0.123863</td>\n",
       "      <td>-2.524338</td>\n",
       "      <td>101.252716</td>\n",
       "      <td>-33.924385</td>\n",
       "      <td>...</td>\n",
       "      <td>12.506608</td>\n",
       "      <td>-13.368823</td>\n",
       "      <td>6.112817</td>\n",
       "      <td>-9.065890</td>\n",
       "      <td>5.033774</td>\n",
       "      <td>-11.330277</td>\n",
       "      <td>3.166534</td>\n",
       "      <td>-4.567591</td>\n",
       "      <td>-4.033623</td>\n",
       "      <td>blues</td>\n",
       "    </tr>\n",
       "  </tbody>\n",
       "</table>\n",
       "<p>5 rows × 28 columns</p>\n",
       "</div>"
      ],
      "text/plain": [
       "          filename  chroma_stft      rmse  spectral_centroid  \\\n",
       "0  blues.00093.wav     0.377690  0.065906         569.930721   \n",
       "1  blues.00087.wav     0.336773  0.158098        1442.190271   \n",
       "2  blues.00050.wav     0.400860  0.182380        1945.848425   \n",
       "3  blues.00044.wav     0.390212  0.136276        2279.124558   \n",
       "4  blues.00078.wav     0.414188  0.258052        2333.685108   \n",
       "\n",
       "   spectral_bandwidth      rolloff  zero_crossing_rate       mfcc1  \\\n",
       "0          995.407125   927.427725            0.021701 -350.436188   \n",
       "1         1870.534155  3083.414688            0.050889 -155.504929   \n",
       "2         2082.246626  4175.874749            0.085806  -82.979019   \n",
       "3         2375.102120  5198.360233            0.092570 -109.509285   \n",
       "4         2227.425609  4942.811778            0.123863   -2.524338   \n",
       "\n",
       "        mfcc2      mfcc3  ...     mfcc12     mfcc13    mfcc14     mfcc15  \\\n",
       "0  169.545746  31.820370  ...   1.821690  -5.970891 -5.259567  -0.229211   \n",
       "1  125.638863   1.596553  ...  -0.792893  -7.748057  0.413548  -7.030263   \n",
       "2  107.052124 -25.320452  ...  12.539581  -9.762303  2.562253  -6.300853   \n",
       "3   86.922409  -8.607986  ...  11.087481  -5.085794  3.976360 -12.859742   \n",
       "4  101.252716 -33.924385  ...  12.506608 -13.368823  6.112817  -9.065890   \n",
       "\n",
       "      mfcc16     mfcc17    mfcc18    mfcc19    mfcc20  label  \n",
       "0  -1.776850  -3.713751  0.181591  2.072390 -2.896225  blues  \n",
       "1   3.997679  -6.256611  0.958227  2.019821 -5.742188  blues  \n",
       "2   2.996785  -8.718455 -0.326581 -2.980347  0.712600  blues  \n",
       "3  12.343859   0.026216 -0.741568 -5.126620  3.303442  blues  \n",
       "4   5.033774 -11.330277  3.166534 -4.567591 -4.033623  blues  \n",
       "\n",
       "[5 rows x 28 columns]"
      ]
     },
     "execution_count": 6,
     "metadata": {},
     "output_type": "execute_result"
    }
   ],
   "source": [
    "data = pd.read_csv('data.csv')\n",
    "data.head()"
   ]
  },
  {
   "cell_type": "code",
   "execution_count": 7,
   "metadata": {
    "colab": {
     "base_uri": "https://localhost:8080/",
     "height": 34
    },
    "colab_type": "code",
    "id": "iHrDHCaR9gKR",
    "outputId": "7d32943a-1ad5-4a59-c13a-beebeb36e4c2"
   },
   "outputs": [
    {
     "data": {
      "text/plain": [
       "(1000, 28)"
      ]
     },
     "execution_count": 7,
     "metadata": {},
     "output_type": "execute_result"
    }
   ],
   "source": [
    "data.shape"
   ]
  },
  {
   "cell_type": "code",
   "execution_count": 8,
   "metadata": {
    "colab": {},
    "colab_type": "code",
    "id": "veD5BgX49hZa"
   },
   "outputs": [],
   "source": [
    "# Dropping unneccesary columns\n",
    "data = data.drop(['filename'],axis=1)"
   ]
  },
  {
   "cell_type": "markdown",
   "metadata": {
    "colab_type": "text",
    "id": "Nyr0aAAsGXjZ"
   },
   "source": [
    "## Encoding the Labels"
   ]
  },
  {
   "cell_type": "code",
   "execution_count": 9,
   "metadata": {
    "colab": {},
    "colab_type": "code",
    "id": "frI5HH4q-1HS"
   },
   "outputs": [],
   "source": [
    "genre_list = data.iloc[:, -1]\n",
    "encoder = LabelEncoder()\n",
    "y = encoder.fit_transform(genre_list)"
   ]
  },
  {
   "cell_type": "markdown",
   "metadata": {
    "colab_type": "text",
    "id": "Slm8W0-iGVhI"
   },
   "source": []
  },
  {
   "cell_type": "markdown",
   "metadata": {
    "colab_type": "text",
    "id": "_2n8a02zGfvP"
   },
   "source": [
    "## Scaling the Feature columns"
   ]
  },
  {
   "cell_type": "code",
   "execution_count": 10,
   "metadata": {
    "colab": {},
    "colab_type": "code",
    "id": "uqcqn-nyAofk"
   },
   "outputs": [],
   "source": [
    "scaler = StandardScaler()\n",
    "X = scaler.fit_transform(np.array(data.iloc[:, :-1], dtype = float))"
   ]
  },
  {
   "cell_type": "markdown",
   "metadata": {
    "colab_type": "text",
    "id": "e3VZvbwpGo9R"
   },
   "source": [
    "## Dividing data into training and Testing set"
   ]
  },
  {
   "cell_type": "code",
   "execution_count": 11,
   "metadata": {
    "colab": {},
    "colab_type": "code",
    "id": "F1GW3VvQA7Rj"
   },
   "outputs": [],
   "source": [
    "X_train, X_test, y_train, y_test = train_test_split(X, y, test_size=0.2)"
   ]
  },
  {
   "cell_type": "code",
   "execution_count": 12,
   "metadata": {
    "colab": {
     "base_uri": "https://localhost:8080/",
     "height": 34
    },
    "colab_type": "code",
    "id": "upuczQ-KBHJ5",
    "outputId": "1431a28b-e8b6-4db2-e505-7e149e37c0d7"
   },
   "outputs": [
    {
     "data": {
      "text/plain": [
       "800"
      ]
     },
     "execution_count": 12,
     "metadata": {},
     "output_type": "execute_result"
    }
   ],
   "source": [
    "len(y_train)"
   ]
  },
  {
   "cell_type": "code",
   "execution_count": 13,
   "metadata": {
    "colab": {
     "base_uri": "https://localhost:8080/",
     "height": 34
    },
    "colab_type": "code",
    "id": "LtoE_FqqBzM8",
    "outputId": "76555a2b-2030-48e1-b52d-d71b4ebae38e"
   },
   "outputs": [
    {
     "data": {
      "text/plain": [
       "200"
      ]
     },
     "execution_count": 13,
     "metadata": {},
     "output_type": "execute_result"
    }
   ],
   "source": [
    "len(y_test)"
   ]
  },
  {
   "cell_type": "code",
   "execution_count": 14,
   "metadata": {
    "colab": {
     "base_uri": "https://localhost:8080/",
     "height": 119
    },
    "colab_type": "code",
    "id": "ir9XaWgQB0lq",
    "outputId": "2ec90814-19d8-4f27-934a-1ce54406d4ea"
   },
   "outputs": [
    {
     "data": {
      "text/plain": [
       "array([ 1.25521286,  0.20098883,  0.82091704,  0.00944852,  0.49179319,\n",
       "        1.8253562 ,  1.16200142, -0.49544522, -1.60464391,  0.70238027,\n",
       "       -1.7445238 ,  0.44657787, -2.01834113,  1.40397416, -0.73991081,\n",
       "        2.13537746, -1.52598503,  1.95013416, -1.72251254,  1.37008052,\n",
       "       -1.2485358 ,  1.29501766, -1.21343263,  2.0484251 , -0.32481925,\n",
       "        0.97036012])"
      ]
     },
     "execution_count": 14,
     "metadata": {},
     "output_type": "execute_result"
    }
   ],
   "source": [
    "X_train[10]"
   ]
  },
  {
   "cell_type": "markdown",
   "metadata": {
    "colab_type": "text",
    "id": "Vp2yc5FWG04e"
   },
   "source": [
    "# Classification with Keras\n",
    "\n",
    "## Building our Network"
   ]
  },
  {
   "cell_type": "code",
   "execution_count": 15,
   "metadata": {
    "colab": {},
    "colab_type": "code",
    "id": "Qj3sc2uFEUMt"
   },
   "outputs": [],
   "source": [
    "from keras import models\n",
    "from keras import layers\n",
    "\n",
    "model = models.Sequential()\n",
    "model.add(layers.Dense(256, activation='relu', input_shape=(X_train.shape[1],)))\n",
    "\n",
    "model.add(layers.Dense(128, activation='relu'))\n",
    "\n",
    "model.add(layers.Dense(64, activation='relu'))\n",
    "\n",
    "model.add(layers.Dense(10, activation='softmax'))"
   ]
  },
  {
   "cell_type": "code",
   "execution_count": 16,
   "metadata": {
    "colab": {},
    "colab_type": "code",
    "id": "7yrsmpI6EjJ2"
   },
   "outputs": [],
   "source": [
    "model.compile(optimizer='adam',\n",
    "              loss='sparse_categorical_crossentropy',\n",
    "              metrics=['accuracy'])"
   ]
  },
  {
   "cell_type": "code",
   "execution_count": 17,
   "metadata": {
    "colab": {
     "base_uri": "https://localhost:8080/",
     "height": 697
    },
    "colab_type": "code",
    "id": "bP0hVm4aElS7",
    "outputId": "aacf234d-d0a9-4de4-91be-5fd45a33b279"
   },
   "outputs": [
    {
     "name": "stdout",
     "output_type": "stream",
     "text": [
      "Epoch 1/20\n",
      "7/7 [==============================] - 0s 1ms/step - loss: 2.1544 - accuracy: 0.2600\n",
      "Epoch 2/20\n",
      "7/7 [==============================] - 0s 2ms/step - loss: 1.8164 - accuracy: 0.3787\n",
      "Epoch 3/20\n",
      "7/7 [==============================] - 0s 2ms/step - loss: 1.5851 - accuracy: 0.4212\n",
      "Epoch 4/20\n",
      "7/7 [==============================] - 0s 2ms/step - loss: 1.4050 - accuracy: 0.5063\n",
      "Epoch 5/20\n",
      "7/7 [==============================] - 0s 2ms/step - loss: 1.2723 - accuracy: 0.5825\n",
      "Epoch 6/20\n",
      "7/7 [==============================] - 0s 2ms/step - loss: 1.1651 - accuracy: 0.6025\n",
      "Epoch 7/20\n",
      "7/7 [==============================] - 0s 2ms/step - loss: 1.0743 - accuracy: 0.6475\n",
      "Epoch 8/20\n",
      "7/7 [==============================] - 0s 1ms/step - loss: 1.0116 - accuracy: 0.6725\n",
      "Epoch 9/20\n",
      "7/7 [==============================] - 0s 1ms/step - loss: 0.9498 - accuracy: 0.6925\n",
      "Epoch 10/20\n",
      "7/7 [==============================] - 0s 1ms/step - loss: 0.8991 - accuracy: 0.6900\n",
      "Epoch 11/20\n",
      "7/7 [==============================] - 0s 1ms/step - loss: 0.8385 - accuracy: 0.7262\n",
      "Epoch 12/20\n",
      "7/7 [==============================] - 0s 1ms/step - loss: 0.7858 - accuracy: 0.7487\n",
      "Epoch 13/20\n",
      "7/7 [==============================] - 0s 1ms/step - loss: 0.7412 - accuracy: 0.7650\n",
      "Epoch 14/20\n",
      "7/7 [==============================] - 0s 1ms/step - loss: 0.7067 - accuracy: 0.7675\n",
      "Epoch 15/20\n",
      "7/7 [==============================] - 0s 1ms/step - loss: 0.6779 - accuracy: 0.7713\n",
      "Epoch 16/20\n",
      "7/7 [==============================] - 0s 1ms/step - loss: 0.6415 - accuracy: 0.7950\n",
      "Epoch 17/20\n",
      "7/7 [==============================] - 0s 1ms/step - loss: 0.6086 - accuracy: 0.7925\n",
      "Epoch 18/20\n",
      "7/7 [==============================] - 0s 1ms/step - loss: 0.5731 - accuracy: 0.8188\n",
      "Epoch 19/20\n",
      "7/7 [==============================] - 0s 1ms/step - loss: 0.5508 - accuracy: 0.8175\n",
      "Epoch 20/20\n",
      "7/7 [==============================] - 0s 1ms/step - loss: 0.5213 - accuracy: 0.8438\n"
     ]
    }
   ],
   "source": [
    "history = model.fit(X_train,\n",
    "                    y_train,\n",
    "                    epochs=20,\n",
    "                    batch_size=128)\n",
    "                   "
   ]
  },
  {
   "cell_type": "code",
   "execution_count": 18,
   "metadata": {
    "colab": {
     "base_uri": "https://localhost:8080/",
     "height": 34
    },
    "colab_type": "code",
    "id": "0m1J0_wUFK4C",
    "outputId": "ffd3bf36-29ea-437a-987c-9aa600b9dae6"
   },
   "outputs": [
    {
     "name": "stdout",
     "output_type": "stream",
     "text": [
      "7/7 [==============================] - 0s 764us/step - loss: 1.1047 - accuracy: 0.6500\n"
     ]
    }
   ],
   "source": [
    "test_loss, test_acc = model.evaluate(X_test,y_test)"
   ]
  },
  {
   "cell_type": "code",
   "execution_count": 19,
   "metadata": {
    "colab": {
     "base_uri": "https://localhost:8080/",
     "height": 34
    },
    "colab_type": "code",
    "id": "f6HrjXeUF0Ko",
    "outputId": "ea282dbd-6f9e-48c7-de2d-dc9afde8949e"
   },
   "outputs": [
    {
     "name": "stdout",
     "output_type": "stream",
     "text": [
      "test_acc:  0.6499999761581421\n"
     ]
    }
   ],
   "source": [
    "print('test_acc: ',test_acc)"
   ]
  },
  {
   "cell_type": "markdown",
   "metadata": {
    "colab_type": "text",
    "id": "3yQmP_f5Kq0w"
   },
   "source": [
    "Tes accuracy is less than training dataa accuracy. This hints at Overfitting"
   ]
  },
  {
   "cell_type": "markdown",
   "metadata": {
    "colab_type": "text",
    "id": "-U2qzRJoHV9O"
   },
   "source": [
    "## Validating our approach\n",
    "Let's set apart 200 samples in our training data to use as a validation set:"
   ]
  },
  {
   "cell_type": "code",
   "execution_count": 20,
   "metadata": {
    "colab": {},
    "colab_type": "code",
    "id": "xJNbvYZoF7ZT"
   },
   "outputs": [],
   "source": [
    "x_val = X_train[:200]\n",
    "partial_x_train = X_train[200:]\n",
    "\n",
    "y_val = y_train[:200]\n",
    "partial_y_train = y_train[200:]"
   ]
  },
  {
   "cell_type": "markdown",
   "metadata": {
    "colab_type": "text",
    "id": "L1EkG59EHeEV"
   },
   "source": [
    "Now let's train our network for 20 epochs:"
   ]
  },
  {
   "cell_type": "code",
   "execution_count": 21,
   "metadata": {
    "colab": {
     "base_uri": "https://localhost:8080/",
     "height": 1071
    },
    "colab_type": "code",
    "id": "Dp3G4P3aP4k2",
    "outputId": "25e1a389-1ac2-425b-bd5f-05736b6e9b96"
   },
   "outputs": [
    {
     "name": "stdout",
     "output_type": "stream",
     "text": [
      "Epoch 1/30\n",
      "2/2 [==============================] - 0s 54ms/step - loss: 2.3285 - accuracy: 0.1133 - val_loss: 2.1553 - val_accuracy: 0.3200\n",
      "Epoch 2/30\n",
      "2/2 [==============================] - 0s 10ms/step - loss: 2.1526 - accuracy: 0.2800 - val_loss: 2.0099 - val_accuracy: 0.3650\n",
      "Epoch 3/30\n",
      "2/2 [==============================] - 0s 12ms/step - loss: 2.0195 - accuracy: 0.3083 - val_loss: 1.8719 - val_accuracy: 0.3750\n",
      "Epoch 4/30\n",
      "2/2 [==============================] - 0s 9ms/step - loss: 1.8870 - accuracy: 0.3567 - val_loss: 1.7427 - val_accuracy: 0.3950\n",
      "Epoch 5/30\n",
      "2/2 [==============================] - 0s 10ms/step - loss: 1.7466 - accuracy: 0.3983 - val_loss: 1.6406 - val_accuracy: 0.4500\n",
      "Epoch 6/30\n",
      "2/2 [==============================] - 0s 10ms/step - loss: 1.6046 - accuracy: 0.4800 - val_loss: 1.5668 - val_accuracy: 0.4650\n",
      "Epoch 7/30\n",
      "2/2 [==============================] - 0s 10ms/step - loss: 1.4726 - accuracy: 0.5350 - val_loss: 1.4869 - val_accuracy: 0.4800\n",
      "Epoch 8/30\n",
      "2/2 [==============================] - 0s 10ms/step - loss: 1.3498 - accuracy: 0.5433 - val_loss: 1.4214 - val_accuracy: 0.4650\n",
      "Epoch 9/30\n",
      "2/2 [==============================] - 0s 10ms/step - loss: 1.2558 - accuracy: 0.5683 - val_loss: 1.3665 - val_accuracy: 0.5350\n",
      "Epoch 10/30\n",
      "2/2 [==============================] - 0s 10ms/step - loss: 1.1743 - accuracy: 0.5850 - val_loss: 1.3412 - val_accuracy: 0.5400\n",
      "Epoch 11/30\n",
      "2/2 [==============================] - 0s 10ms/step - loss: 1.1164 - accuracy: 0.6067 - val_loss: 1.2570 - val_accuracy: 0.5200\n",
      "Epoch 12/30\n",
      "2/2 [==============================] - 0s 10ms/step - loss: 1.0499 - accuracy: 0.6183 - val_loss: 1.2041 - val_accuracy: 0.5850\n",
      "Epoch 13/30\n",
      "2/2 [==============================] - 0s 10ms/step - loss: 0.9976 - accuracy: 0.6533 - val_loss: 1.2138 - val_accuracy: 0.6100\n",
      "Epoch 14/30\n",
      "2/2 [==============================] - 0s 10ms/step - loss: 0.9453 - accuracy: 0.6833 - val_loss: 1.2316 - val_accuracy: 0.5950\n",
      "Epoch 15/30\n",
      "2/2 [==============================] - 0s 10ms/step - loss: 0.9061 - accuracy: 0.7133 - val_loss: 1.1708 - val_accuracy: 0.6200\n",
      "Epoch 16/30\n",
      "2/2 [==============================] - 0s 9ms/step - loss: 0.8562 - accuracy: 0.7017 - val_loss: 1.1370 - val_accuracy: 0.6250\n",
      "Epoch 17/30\n",
      "2/2 [==============================] - 0s 10ms/step - loss: 0.8302 - accuracy: 0.6950 - val_loss: 1.1103 - val_accuracy: 0.6300\n",
      "Epoch 18/30\n",
      "2/2 [==============================] - 0s 10ms/step - loss: 0.7809 - accuracy: 0.7283 - val_loss: 1.1192 - val_accuracy: 0.6150\n",
      "Epoch 19/30\n",
      "2/2 [==============================] - 0s 10ms/step - loss: 0.7448 - accuracy: 0.7383 - val_loss: 1.0850 - val_accuracy: 0.6150\n",
      "Epoch 20/30\n",
      "2/2 [==============================] - 0s 10ms/step - loss: 0.7049 - accuracy: 0.7550 - val_loss: 1.0704 - val_accuracy: 0.6300\n",
      "Epoch 21/30\n",
      "2/2 [==============================] - 0s 10ms/step - loss: 0.6687 - accuracy: 0.7783 - val_loss: 1.0815 - val_accuracy: 0.6550\n",
      "Epoch 22/30\n",
      "2/2 [==============================] - 0s 10ms/step - loss: 0.6397 - accuracy: 0.7850 - val_loss: 1.0832 - val_accuracy: 0.6500\n",
      "Epoch 23/30\n",
      "2/2 [==============================] - 0s 13ms/step - loss: 0.6252 - accuracy: 0.7983 - val_loss: 1.0866 - val_accuracy: 0.6300\n",
      "Epoch 24/30\n",
      "2/2 [==============================] - 0s 10ms/step - loss: 0.5928 - accuracy: 0.8033 - val_loss: 1.1017 - val_accuracy: 0.6400\n",
      "Epoch 25/30\n",
      "2/2 [==============================] - 0s 10ms/step - loss: 0.5653 - accuracy: 0.8167 - val_loss: 1.0743 - val_accuracy: 0.6500\n",
      "Epoch 26/30\n",
      "2/2 [==============================] - 0s 11ms/step - loss: 0.5490 - accuracy: 0.8217 - val_loss: 1.0613 - val_accuracy: 0.6350\n",
      "Epoch 27/30\n",
      "2/2 [==============================] - 0s 11ms/step - loss: 0.5157 - accuracy: 0.8333 - val_loss: 1.1062 - val_accuracy: 0.6250\n",
      "Epoch 28/30\n",
      "2/2 [==============================] - 0s 11ms/step - loss: 0.4894 - accuracy: 0.8500 - val_loss: 1.1636 - val_accuracy: 0.6150\n",
      "Epoch 29/30\n",
      "2/2 [==============================] - 0s 11ms/step - loss: 0.4661 - accuracy: 0.8567 - val_loss: 1.1057 - val_accuracy: 0.6600\n",
      "Epoch 30/30\n",
      "2/2 [==============================] - 0s 13ms/step - loss: 0.4375 - accuracy: 0.8533 - val_loss: 1.0605 - val_accuracy: 0.6450\n",
      "7/7 [==============================] - 0s 959us/step - loss: 1.2831 - accuracy: 0.5550\n"
     ]
    }
   ],
   "source": [
    "model = models.Sequential()\n",
    "model.add(layers.Dense(512, activation='relu', input_shape=(X_train.shape[1],)))\n",
    "model.add(layers.Dense(256, activation='relu'))\n",
    "model.add(layers.Dense(128, activation='relu'))\n",
    "model.add(layers.Dense(64, activation='relu'))\n",
    "model.add(layers.Dense(10, activation='softmax'))\n",
    "\n",
    "model.compile(optimizer='adam',\n",
    "              loss='sparse_categorical_crossentropy',\n",
    "              metrics=['accuracy'])\n",
    "\n",
    "model.fit(partial_x_train,\n",
    "          partial_y_train,\n",
    "          epochs=30,\n",
    "          batch_size=512,\n",
    "          validation_data=(x_val, y_val))\n",
    "results = model.evaluate(X_test, y_test)"
   ]
  },
  {
   "cell_type": "code",
   "execution_count": 22,
   "metadata": {
    "colab": {
     "base_uri": "https://localhost:8080/",
     "height": 34
    },
    "colab_type": "code",
    "id": "Mvi9it1SI4aR",
    "outputId": "98b01ef2-3935-442b-82d6-45f56e036d39"
   },
   "outputs": [
    {
     "data": {
      "text/plain": [
       "[1.2831228971481323, 0.5550000071525574]"
      ]
     },
     "execution_count": 22,
     "metadata": {},
     "output_type": "execute_result"
    }
   ],
   "source": [
    "results"
   ]
  },
  {
   "cell_type": "markdown",
   "metadata": {
    "colab_type": "text",
    "id": "r3hb8s1l4rBA"
   },
   "source": [
    "## Predictions on Test Data"
   ]
  },
  {
   "cell_type": "code",
   "execution_count": 23,
   "metadata": {
    "colab": {},
    "colab_type": "code",
    "id": "gudBAhIXJIi2"
   },
   "outputs": [],
   "source": [
    "predictions = model.predict(X_test)"
   ]
  },
  {
   "cell_type": "code",
   "execution_count": 24,
   "metadata": {
    "colab": {
     "base_uri": "https://localhost:8080/",
     "height": 34
    },
    "colab_type": "code",
    "id": "Xb7bVPSwJQF0",
    "outputId": "aca09c75-1d21-4847-bdd9-a0521dc8d948"
   },
   "outputs": [
    {
     "data": {
      "text/plain": [
       "(10,)"
      ]
     },
     "execution_count": 24,
     "metadata": {},
     "output_type": "execute_result"
    }
   ],
   "source": [
    "predictions[0].shape"
   ]
  },
  {
   "cell_type": "code",
   "execution_count": 25,
   "metadata": {
    "colab": {
     "base_uri": "https://localhost:8080/",
     "height": 34
    },
    "colab_type": "code",
    "id": "llusRQV0JRy9",
    "outputId": "a856289d-883a-47cb-c0fb-ec148330a60a"
   },
   "outputs": [
    {
     "data": {
      "text/plain": [
       "0.9999999"
      ]
     },
     "execution_count": 25,
     "metadata": {},
     "output_type": "execute_result"
    }
   ],
   "source": [
    "np.sum(predictions[0])"
   ]
  },
  {
   "cell_type": "code",
   "execution_count": 26,
   "metadata": {
    "colab": {
     "base_uri": "https://localhost:8080/",
     "height": 34
    },
    "colab_type": "code",
    "id": "0eoEuSZqJTdU",
    "outputId": "94c17d00-dd7f-40a1-84d2-78d1ebde6103"
   },
   "outputs": [
    {
     "data": {
      "text/plain": [
       "2"
      ]
     },
     "execution_count": 26,
     "metadata": {},
     "output_type": "execute_result"
    }
   ],
   "source": [
    "np.argmax(predictions[0])"
   ]
  },
  {
   "cell_type": "code",
   "execution_count": 0,
   "metadata": {
    "colab": {},
    "colab_type": "code",
    "id": "Utgt1bXfJVRN"
   },
   "outputs": [],
   "source": []
  }
 ],
 "metadata": {
  "accelerator": "TPU",
  "colab": {
   "include_colab_link": true,
   "name": "Untitled9.ipynb",
   "provenance": [],
   "version": "0.3.2"
  },
  "kernelspec": {
   "display_name": "Python 3",
   "language": "python",
   "name": "python3"
  },
  "language_info": {
   "codemirror_mode": {
    "name": "ipython",
    "version": 3
   },
   "file_extension": ".py",
   "mimetype": "text/x-python",
   "name": "python",
   "nbconvert_exporter": "python",
   "pygments_lexer": "ipython3",
   "version": "3.8.6"
  }
 },
 "nbformat": 4,
 "nbformat_minor": 1
}
